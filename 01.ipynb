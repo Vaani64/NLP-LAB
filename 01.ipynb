{
  "nbformat": 4,
  "nbformat_minor": 0,
  "metadata": {
    "colab": {
      "provenance": [],
      "authorship_tag": "ABX9TyNWPHHVON96aNQ6iYYKk2yV",
      "include_colab_link": true
    },
    "kernelspec": {
      "name": "python3",
      "display_name": "Python 3"
    },
    "language_info": {
      "name": "python"
    }
  },
  "cells": [
    {
      "cell_type": "markdown",
      "metadata": {
        "id": "view-in-github",
        "colab_type": "text"
      },
      "source": [
        "<a href=\"https://colab.research.google.com/github/Vaani64/NLP-LAB/blob/main/01.ipynb\" target=\"_parent\"><img src=\"https://colab.research.google.com/assets/colab-badge.svg\" alt=\"Open In Colab\"/></a>"
      ]
    },
    {
      "cell_type": "code",
      "source": [
        "import nltk\n",
        "nltk.download('punkt_tab')"
      ],
      "metadata": {
        "colab": {
          "base_uri": "https://localhost:8080/"
        },
        "id": "TyILjA-T2wUv",
        "outputId": "228f85e6-3d2a-42a1-8cb3-6ddd967c9c1f"
      },
      "execution_count": null,
      "outputs": [
        {
          "output_type": "stream",
          "name": "stderr",
          "text": [
            "[nltk_data] Downloading package punkt_tab to /root/nltk_data...\n",
            "[nltk_data]   Unzipping tokenizers/punkt_tab.zip.\n"
          ]
        },
        {
          "output_type": "execute_result",
          "data": {
            "text/plain": [
              "True"
            ]
          },
          "metadata": {},
          "execution_count": 6
        }
      ]
    },
    {
      "cell_type": "code",
      "execution_count": null,
      "metadata": {
        "id": "smKrJnc32RJr"
      },
      "outputs": [],
      "source": [
        "from nltk.tokenize import sent_tokenize,word_tokenize"
      ]
    },
    {
      "cell_type": "code",
      "source": [
        "text=\"The early morning mist clung to the fields as the first rays of sunlight peeked over the hills. Birds began to stir, their songs echoing through the quiet air. A cool breeze carried the scent of dew-covered grass, refreshing the soul. In the distance, the trees stood tall, their leaves gently swaying as if whispering secrets. The world felt still, as if nature was holding its breath before the bustle of the day began. Slowly, the colors of the sky shifted from pale blue to a brilliant gold, signaling the arrival of a new day. People started to emerge from their homes, ready to face whatever challenges awaited them. The energy of the morning was contagious, filling everyone with a sense of optimism. As the sun climbed higher, the day became brighter, and the earth seemed to come alive. It was a reminder that, no matter the struggles, each day brings a fresh start.\""
      ],
      "metadata": {
        "id": "sXIXackt2Z5_"
      },
      "execution_count": null,
      "outputs": []
    },
    {
      "cell_type": "code",
      "source": [
        "print(sent_tokenize(text))\n",
        "print(word_tokenize(text))"
      ],
      "metadata": {
        "colab": {
          "base_uri": "https://localhost:8080/"
        },
        "id": "pjaScco12j63",
        "outputId": "fba9f15f-28ed-4310-d84e-a02803e02b68"
      },
      "execution_count": null,
      "outputs": [
        {
          "output_type": "stream",
          "name": "stdout",
          "text": [
            "['The early morning mist clung to the fields as the first rays of sunlight peeked over the hills.', 'Birds began to stir, their songs echoing through the quiet air.', 'A cool breeze carried the scent of dew-covered grass, refreshing the soul.', 'In the distance, the trees stood tall, their leaves gently swaying as if whispering secrets.', 'The world felt still, as if nature was holding its breath before the bustle of the day began.', 'Slowly, the colors of the sky shifted from pale blue to a brilliant gold, signaling the arrival of a new day.', 'People started to emerge from their homes, ready to face whatever challenges awaited them.', 'The energy of the morning was contagious, filling everyone with a sense of optimism.', 'As the sun climbed higher, the day became brighter, and the earth seemed to come alive.', 'It was a reminder that, no matter the struggles, each day brings a fresh start.']\n",
            "['The', 'early', 'morning', 'mist', 'clung', 'to', 'the', 'fields', 'as', 'the', 'first', 'rays', 'of', 'sunlight', 'peeked', 'over', 'the', 'hills', '.', 'Birds', 'began', 'to', 'stir', ',', 'their', 'songs', 'echoing', 'through', 'the', 'quiet', 'air', '.', 'A', 'cool', 'breeze', 'carried', 'the', 'scent', 'of', 'dew-covered', 'grass', ',', 'refreshing', 'the', 'soul', '.', 'In', 'the', 'distance', ',', 'the', 'trees', 'stood', 'tall', ',', 'their', 'leaves', 'gently', 'swaying', 'as', 'if', 'whispering', 'secrets', '.', 'The', 'world', 'felt', 'still', ',', 'as', 'if', 'nature', 'was', 'holding', 'its', 'breath', 'before', 'the', 'bustle', 'of', 'the', 'day', 'began', '.', 'Slowly', ',', 'the', 'colors', 'of', 'the', 'sky', 'shifted', 'from', 'pale', 'blue', 'to', 'a', 'brilliant', 'gold', ',', 'signaling', 'the', 'arrival', 'of', 'a', 'new', 'day', '.', 'People', 'started', 'to', 'emerge', 'from', 'their', 'homes', ',', 'ready', 'to', 'face', 'whatever', 'challenges', 'awaited', 'them', '.', 'The', 'energy', 'of', 'the', 'morning', 'was', 'contagious', ',', 'filling', 'everyone', 'with', 'a', 'sense', 'of', 'optimism', '.', 'As', 'the', 'sun', 'climbed', 'higher', ',', 'the', 'day', 'became', 'brighter', ',', 'and', 'the', 'earth', 'seemed', 'to', 'come', 'alive', '.', 'It', 'was', 'a', 'reminder', 'that', ',', 'no', 'matter', 'the', 'struggles', ',', 'each', 'day', 'brings', 'a', 'fresh', 'start', '.']\n"
          ]
        }
      ]
    },
    {
      "cell_type": "markdown",
      "source": [
        "This function splits a given text into sentences. It identifies sentence boundaries based on punctuation, capitalization, and other language rules"
      ],
      "metadata": {
        "id": "3Xdw06LI3A9W"
      }
    },
    {
      "cell_type": "markdown",
      "source": [
        "This function splits a given text into words (or tokens), handling punctuation, contractions, and special characters appropriately."
      ],
      "metadata": {
        "id": "Ga1I9TvE3Hu-"
      }
    },
    {
      "cell_type": "code",
      "source": [
        "#remove stop words using nltk\n",
        "nltk.download('stopwords')\n",
        "from nltk.tokenize import sent_tokenize, word_tokenize\n",
        "from nltk.corpus import stopwords\n",
        "#text=\"The early morning mist clung to the fields as the first rays of sunlight peeked over the hills. Birds began to stir, their songs echoing through the quiet air. A cool breeze carried the scent of dew-covered grass, refreshing the soul. In the distance, the trees stood tall, their leaves gently swaying as if whispering secrets. The world felt still, as if nature was holding its breath before the bustle of the day began. Slowly, the colors of the sky shifted from pale blue to a brilliant gold, signaling the arrival of a new day. People started to emerge from their homes, ready to face whatever challenges awaited them. The energy of the morning was contagious, filling everyone with a sense of optimism. As the sun climbed higher, the day became brighter, and the earth seemed to come alive. It was a reminder that, no matter the struggles, each day brings a fresh start.\"\n",
        "stop_words=set(stopwords.words(\"english\"))\n",
        "word_tokens=word_tokenize(text)\n",
        "filtered_sentence=[]\n",
        "for w in word_tokens:\n",
        "    if w not in stop_words:\n",
        "        filtered_sentence.append(w)\n",
        "print(filtered_sentence)\n",
        "print(word_tokens)"
      ],
      "metadata": {
        "colab": {
          "base_uri": "https://localhost:8080/"
        },
        "id": "LIA9OYRl3IhH",
        "outputId": "c4ab5f13-b5a6-439a-a74e-79a104ca44c1"
      },
      "execution_count": null,
      "outputs": [
        {
          "output_type": "stream",
          "name": "stdout",
          "text": [
            "['The', 'early', 'morning', 'mist', 'clung', 'fields', 'first', 'rays', 'sunlight', 'peeked', 'hills', '.', 'Birds', 'began', 'stir', ',', 'songs', 'echoing', 'quiet', 'air', '.', 'A', 'cool', 'breeze', 'carried', 'scent', 'dew-covered', 'grass', ',', 'refreshing', 'soul', '.', 'In', 'distance', ',', 'trees', 'stood', 'tall', ',', 'leaves', 'gently', 'swaying', 'whispering', 'secrets', '.', 'The', 'world', 'felt', 'still', ',', 'nature', 'holding', 'breath', 'bustle', 'day', 'began', '.', 'Slowly', ',', 'colors', 'sky', 'shifted', 'pale', 'blue', 'brilliant', 'gold', ',', 'signaling', 'arrival', 'new', 'day', '.', 'People', 'started', 'emerge', 'homes', ',', 'ready', 'face', 'whatever', 'challenges', 'awaited', '.', 'The', 'energy', 'morning', 'contagious', ',', 'filling', 'everyone', 'sense', 'optimism', '.', 'As', 'sun', 'climbed', 'higher', ',', 'day', 'became', 'brighter', ',', 'earth', 'seemed', 'come', 'alive', '.', 'It', 'reminder', ',', 'matter', 'struggles', ',', 'day', 'brings', 'fresh', 'start', '.']\n",
            "['The', 'early', 'morning', 'mist', 'clung', 'to', 'the', 'fields', 'as', 'the', 'first', 'rays', 'of', 'sunlight', 'peeked', 'over', 'the', 'hills', '.', 'Birds', 'began', 'to', 'stir', ',', 'their', 'songs', 'echoing', 'through', 'the', 'quiet', 'air', '.', 'A', 'cool', 'breeze', 'carried', 'the', 'scent', 'of', 'dew-covered', 'grass', ',', 'refreshing', 'the', 'soul', '.', 'In', 'the', 'distance', ',', 'the', 'trees', 'stood', 'tall', ',', 'their', 'leaves', 'gently', 'swaying', 'as', 'if', 'whispering', 'secrets', '.', 'The', 'world', 'felt', 'still', ',', 'as', 'if', 'nature', 'was', 'holding', 'its', 'breath', 'before', 'the', 'bustle', 'of', 'the', 'day', 'began', '.', 'Slowly', ',', 'the', 'colors', 'of', 'the', 'sky', 'shifted', 'from', 'pale', 'blue', 'to', 'a', 'brilliant', 'gold', ',', 'signaling', 'the', 'arrival', 'of', 'a', 'new', 'day', '.', 'People', 'started', 'to', 'emerge', 'from', 'their', 'homes', ',', 'ready', 'to', 'face', 'whatever', 'challenges', 'awaited', 'them', '.', 'The', 'energy', 'of', 'the', 'morning', 'was', 'contagious', ',', 'filling', 'everyone', 'with', 'a', 'sense', 'of', 'optimism', '.', 'As', 'the', 'sun', 'climbed', 'higher', ',', 'the', 'day', 'became', 'brighter', ',', 'and', 'the', 'earth', 'seemed', 'to', 'come', 'alive', '.', 'It', 'was', 'a', 'reminder', 'that', ',', 'no', 'matter', 'the', 'struggles', ',', 'each', 'day', 'brings', 'a', 'fresh', 'start', '.']\n"
          ]
        },
        {
          "output_type": "stream",
          "name": "stderr",
          "text": [
            "[nltk_data] Downloading package stopwords to /root/nltk_data...\n",
            "[nltk_data]   Package stopwords is already up-to-date!\n"
          ]
        }
      ]
    },
    {
      "cell_type": "code",
      "source": [
        "#python stemming\n",
        "from nltk.stem import PorterStemmer\n",
        "from nltk.tokenize import word_tokenize\n",
        "ps=PorterStemmer()\n",
        "#words=[\"program\",\"programs\",\"programer\",\"programing\",\"programers\"]\n",
        "#words=[\"helping\",\"helped\"]\n",
        "word_tokens = word_tokenize(text)  #Tokenize the text into words\n",
        "for w in word_tokens:\n",
        "    print(w,\":\",ps.stem(w))"
      ],
      "metadata": {
        "colab": {
          "base_uri": "https://localhost:8080/"
        },
        "id": "3eHpyuDT5Z8A",
        "outputId": "4fabcb01-3e77-4834-9d6e-e79532e42df1"
      },
      "execution_count": null,
      "outputs": [
        {
          "output_type": "stream",
          "name": "stdout",
          "text": [
            "The : the\n",
            "early : earli\n",
            "morning : morn\n",
            "mist : mist\n",
            "clung : clung\n",
            "to : to\n",
            "the : the\n",
            "fields : field\n",
            "as : as\n",
            "the : the\n",
            "first : first\n",
            "rays : ray\n",
            "of : of\n",
            "sunlight : sunlight\n",
            "peeked : peek\n",
            "over : over\n",
            "the : the\n",
            "hills : hill\n",
            ". : .\n",
            "Birds : bird\n",
            "began : began\n",
            "to : to\n",
            "stir : stir\n",
            ", : ,\n",
            "their : their\n",
            "songs : song\n",
            "echoing : echo\n",
            "through : through\n",
            "the : the\n",
            "quiet : quiet\n",
            "air : air\n",
            ". : .\n",
            "A : a\n",
            "cool : cool\n",
            "breeze : breez\n",
            "carried : carri\n",
            "the : the\n",
            "scent : scent\n",
            "of : of\n",
            "dew-covered : dew-cov\n",
            "grass : grass\n",
            ", : ,\n",
            "refreshing : refresh\n",
            "the : the\n",
            "soul : soul\n",
            ". : .\n",
            "In : in\n",
            "the : the\n",
            "distance : distanc\n",
            ", : ,\n",
            "the : the\n",
            "trees : tree\n",
            "stood : stood\n",
            "tall : tall\n",
            ", : ,\n",
            "their : their\n",
            "leaves : leav\n",
            "gently : gentli\n",
            "swaying : sway\n",
            "as : as\n",
            "if : if\n",
            "whispering : whisper\n",
            "secrets : secret\n",
            ". : .\n",
            "The : the\n",
            "world : world\n",
            "felt : felt\n",
            "still : still\n",
            ", : ,\n",
            "as : as\n",
            "if : if\n",
            "nature : natur\n",
            "was : wa\n",
            "holding : hold\n",
            "its : it\n",
            "breath : breath\n",
            "before : befor\n",
            "the : the\n",
            "bustle : bustl\n",
            "of : of\n",
            "the : the\n",
            "day : day\n",
            "began : began\n",
            ". : .\n",
            "Slowly : slowli\n",
            ", : ,\n",
            "the : the\n",
            "colors : color\n",
            "of : of\n",
            "the : the\n",
            "sky : sky\n",
            "shifted : shift\n",
            "from : from\n",
            "pale : pale\n",
            "blue : blue\n",
            "to : to\n",
            "a : a\n",
            "brilliant : brilliant\n",
            "gold : gold\n",
            ", : ,\n",
            "signaling : signal\n",
            "the : the\n",
            "arrival : arriv\n",
            "of : of\n",
            "a : a\n",
            "new : new\n",
            "day : day\n",
            ". : .\n",
            "People : peopl\n",
            "started : start\n",
            "to : to\n",
            "emerge : emerg\n",
            "from : from\n",
            "their : their\n",
            "homes : home\n",
            ", : ,\n",
            "ready : readi\n",
            "to : to\n",
            "face : face\n",
            "whatever : whatev\n",
            "challenges : challeng\n",
            "awaited : await\n",
            "them : them\n",
            ". : .\n",
            "The : the\n",
            "energy : energi\n",
            "of : of\n",
            "the : the\n",
            "morning : morn\n",
            "was : wa\n",
            "contagious : contagi\n",
            ", : ,\n",
            "filling : fill\n",
            "everyone : everyon\n",
            "with : with\n",
            "a : a\n",
            "sense : sens\n",
            "of : of\n",
            "optimism : optim\n",
            ". : .\n",
            "As : as\n",
            "the : the\n",
            "sun : sun\n",
            "climbed : climb\n",
            "higher : higher\n",
            ", : ,\n",
            "the : the\n",
            "day : day\n",
            "became : becam\n",
            "brighter : brighter\n",
            ", : ,\n",
            "and : and\n",
            "the : the\n",
            "earth : earth\n",
            "seemed : seem\n",
            "to : to\n",
            "come : come\n",
            "alive : aliv\n",
            ". : .\n",
            "It : it\n",
            "was : wa\n",
            "a : a\n",
            "reminder : remind\n",
            "that : that\n",
            ", : ,\n",
            "no : no\n",
            "matter : matter\n",
            "the : the\n",
            "struggles : struggl\n",
            ", : ,\n",
            "each : each\n",
            "day : day\n",
            "brings : bring\n",
            "a : a\n",
            "fresh : fresh\n",
            "start : start\n",
            ". : .\n"
          ]
        }
      ]
    },
    {
      "cell_type": "code",
      "source": [
        "#lemmatization techniques\n",
        "nltk.download('wordnet')\n",
        "from nltk.stem import WordNetLemmatizer\n",
        "lemmatizer = WordNetLemmatizer()\n",
        "filtered_sentence = word_tokenize(text)\n",
        "lemmatize_word=[lemmatizer.lemmatize(word) for word in filtered_sentence]\n",
        "print(lemmatize_word)\n",
        "\n"
      ],
      "metadata": {
        "colab": {
          "base_uri": "https://localhost:8080/"
        },
        "id": "4a2lC_c-7Pjf",
        "outputId": "a5342e49-a00e-4f9d-9345-0a3cd2918a04"
      },
      "execution_count": null,
      "outputs": [
        {
          "output_type": "stream",
          "name": "stdout",
          "text": [
            "['The', 'early', 'morning', 'mist', 'clung', 'to', 'the', 'field', 'a', 'the', 'first', 'ray', 'of', 'sunlight', 'peeked', 'over', 'the', 'hill', '.', 'Birds', 'began', 'to', 'stir', ',', 'their', 'song', 'echoing', 'through', 'the', 'quiet', 'air', '.', 'A', 'cool', 'breeze', 'carried', 'the', 'scent', 'of', 'dew-covered', 'grass', ',', 'refreshing', 'the', 'soul', '.', 'In', 'the', 'distance', ',', 'the', 'tree', 'stood', 'tall', ',', 'their', 'leaf', 'gently', 'swaying', 'a', 'if', 'whispering', 'secret', '.', 'The', 'world', 'felt', 'still', ',', 'a', 'if', 'nature', 'wa', 'holding', 'it', 'breath', 'before', 'the', 'bustle', 'of', 'the', 'day', 'began', '.', 'Slowly', ',', 'the', 'color', 'of', 'the', 'sky', 'shifted', 'from', 'pale', 'blue', 'to', 'a', 'brilliant', 'gold', ',', 'signaling', 'the', 'arrival', 'of', 'a', 'new', 'day', '.', 'People', 'started', 'to', 'emerge', 'from', 'their', 'home', ',', 'ready', 'to', 'face', 'whatever', 'challenge', 'awaited', 'them', '.', 'The', 'energy', 'of', 'the', 'morning', 'wa', 'contagious', ',', 'filling', 'everyone', 'with', 'a', 'sense', 'of', 'optimism', '.', 'As', 'the', 'sun', 'climbed', 'higher', ',', 'the', 'day', 'became', 'brighter', ',', 'and', 'the', 'earth', 'seemed', 'to', 'come', 'alive', '.', 'It', 'wa', 'a', 'reminder', 'that', ',', 'no', 'matter', 'the', 'struggle', ',', 'each', 'day', 'brings', 'a', 'fresh', 'start', '.']\n"
          ]
        },
        {
          "output_type": "stream",
          "name": "stderr",
          "text": [
            "[nltk_data] Downloading package wordnet to /root/nltk_data...\n",
            "[nltk_data]   Package wordnet is already up-to-date!\n"
          ]
        }
      ]
    },
    {
      "cell_type": "markdown",
      "source": [
        "Lemmatization is the process of reducing a word to its base or root form, known as the lemma. This involves removing inflections such as tense, number, and person. Unlike stemming (which simply chops off prefixes or suffixes), lemmatization takes the context of the word into account to return a valid word (lemma)."
      ],
      "metadata": {
        "id": "PdaNOaxK7r4_"
      }
    },
    {
      "cell_type": "markdown",
      "source": [
        "A corpus (plural: corpora) refers to a large collection of written or spoken texts, often used for linguistic research, machine learning, or NLP tasks. It serves as a dataset for training algorithms, analyzing language patterns, or testing language models."
      ],
      "metadata": {
        "id": "fLKkFKl47smW"
      }
    },
    {
      "cell_type": "code",
      "source": [
        "import spacy\n",
        "nlp=spacy.load('en_core_web_sm')\n",
        "doc=nlp(text)\n",
        "# Correct the list comprehension syntax and ensure 'token.lemma_' is a valid attribute\n",
        "lemmatized_tokens = [token.lemma_ for token in doc]\n",
        "lemmatized_text=' '.join(lemmatized_tokens)\n",
        "print(\"original text:\",text)\n",
        "print(\"lemmatized text:\", lemmatized_text)"
      ],
      "metadata": {
        "colab": {
          "base_uri": "https://localhost:8080/"
        },
        "id": "gaYckomu56e-",
        "outputId": "f62767f1-7f40-4df6-bfa0-ecc6f7b4c5b4"
      },
      "execution_count": null,
      "outputs": [
        {
          "output_type": "stream",
          "name": "stdout",
          "text": [
            "original text: The early morning mist clung to the fields as the first rays of sunlight peeked over the hills. Birds began to stir, their songs echoing through the quiet air. A cool breeze carried the scent of dew-covered grass, refreshing the soul. In the distance, the trees stood tall, their leaves gently swaying as if whispering secrets. The world felt still, as if nature was holding its breath before the bustle of the day began. Slowly, the colors of the sky shifted from pale blue to a brilliant gold, signaling the arrival of a new day. People started to emerge from their homes, ready to face whatever challenges awaited them. The energy of the morning was contagious, filling everyone with a sense of optimism. As the sun climbed higher, the day became brighter, and the earth seemed to come alive. It was a reminder that, no matter the struggles, each day brings a fresh start.\n",
            "lemmatized text: the early morning mist clung to the field as the first ray of sunlight peek over the hill . bird begin to stir , their song echo through the quiet air . a cool breeze carry the scent of dew - cover grass , refresh the soul . in the distance , the tree stand tall , their leave gently sway as if whisper secret . the world feel still , as if nature be hold its breath before the bustle of the day begin . slowly , the color of the sky shift from pale blue to a brilliant gold , signal the arrival of a new day . People start to emerge from their home , ready to face whatever challenge await they . the energy of the morning be contagious , fill everyone with a sense of optimism . as the sun climb higher , the day become bright , and the earth seem to come alive . it be a reminder that , no matter the struggle , each day bring a fresh start .\n"
          ]
        }
      ]
    },
    {
      "cell_type": "code",
      "source": [
        "#pos tagging\n",
        "nltk.download('averaged_perceptron_tagger_eng')\n",
        "import nltk\n",
        "from nltk.tokenize import word_tokenize\n",
        "from nltk import pos_tag\n",
        "\n",
        "# Tokenize the lemmatized text\n",
        "lemmatized_tokens = word_tokenize(lemmatized_text)\n",
        "\n",
        "# Now, pass the list of tokens to pos_tag\n",
        "pos_tags = pos_tag(lemmatized_tokens)\n",
        "\n",
        "print(\"original text:\")\n",
        "print(lemmatized_text)\n",
        "print(\"\\n pos tagging result:\")\n",
        "for word, pos_tag in pos_tags:\n",
        "    print(f\"{word}:{pos_tag}\")"
      ],
      "metadata": {
        "colab": {
          "base_uri": "https://localhost:8080/"
        },
        "id": "iLXQiFOD_7sX",
        "outputId": "d3ed1216-2976-4fb8-b34d-db156b90caa1"
      },
      "execution_count": null,
      "outputs": [
        {
          "output_type": "stream",
          "name": "stdout",
          "text": [
            "original text:\n",
            "the early morning mist clung to the field as the first ray of sunlight peek over the hill . bird begin to stir , their song echo through the quiet air . a cool breeze carry the scent of dew - cover grass , refresh the soul . in the distance , the tree stand tall , their leave gently sway as if whisper secret . the world feel still , as if nature be hold its breath before the bustle of the day begin . slowly , the color of the sky shift from pale blue to a brilliant gold , signal the arrival of a new day . People start to emerge from their home , ready to face whatever challenge await they . the energy of the morning be contagious , fill everyone with a sense of optimism . as the sun climb higher , the day become bright , and the earth seem to come alive . it be a reminder that , no matter the struggle , each day bring a fresh start .\n",
            "\n",
            " pos tagging result:\n",
            "the:DT\n",
            "early:JJ\n",
            "morning:NN\n",
            "mist:NN\n",
            "clung:NN\n",
            "to:TO\n",
            "the:DT\n",
            "field:NN\n",
            "as:IN\n",
            "the:DT\n",
            "first:JJ\n",
            "ray:NN\n",
            "of:IN\n",
            "sunlight:JJ\n",
            "peek:NN\n",
            "over:IN\n",
            "the:DT\n",
            "hill:NN\n",
            ".:.\n",
            "bird:NN\n",
            "begin:NN\n",
            "to:TO\n",
            "stir:VB\n",
            ",:,\n",
            "their:PRP$\n",
            "song:NN\n",
            "echo:NN\n",
            "through:IN\n",
            "the:DT\n",
            "quiet:JJ\n",
            "air:NN\n",
            ".:.\n",
            "a:DT\n",
            "cool:JJ\n",
            "breeze:NN\n",
            "carry:VBP\n",
            "the:DT\n",
            "scent:NN\n",
            "of:IN\n",
            "dew:NN\n",
            "-::\n",
            "cover:NN\n",
            "grass:NN\n",
            ",:,\n",
            "refresh:VB\n",
            "the:DT\n",
            "soul:NN\n",
            ".:.\n",
            "in:IN\n",
            "the:DT\n",
            "distance:NN\n",
            ",:,\n",
            "the:DT\n",
            "tree:NN\n",
            "stand:NN\n",
            "tall:NN\n",
            ",:,\n",
            "their:PRP$\n",
            "leave:VBP\n",
            "gently:RB\n",
            "sway:RB\n",
            "as:IN\n",
            "if:IN\n",
            "whisper:JJ\n",
            "secret:NN\n",
            ".:.\n",
            "the:DT\n",
            "world:NN\n",
            "feel:NN\n",
            "still:RB\n",
            ",:,\n",
            "as:IN\n",
            "if:IN\n",
            "nature:NN\n",
            "be:VB\n",
            "hold:VBN\n",
            "its:PRP$\n",
            "breath:NN\n",
            "before:IN\n",
            "the:DT\n",
            "bustle:NN\n",
            "of:IN\n",
            "the:DT\n",
            "day:NN\n",
            "begin:VB\n",
            ".:.\n",
            "slowly:RB\n",
            ",:,\n",
            "the:DT\n",
            "color:NN\n",
            "of:IN\n",
            "the:DT\n",
            "sky:JJ\n",
            "shift:NN\n",
            "from:IN\n",
            "pale:JJ\n",
            "blue:NN\n",
            "to:TO\n",
            "a:DT\n",
            "brilliant:JJ\n",
            "gold:NN\n",
            ",:,\n",
            "signal:VBZ\n",
            "the:DT\n",
            "arrival:NN\n",
            "of:IN\n",
            "a:DT\n",
            "new:JJ\n",
            "day:NN\n",
            ".:.\n",
            "People:VB\n",
            "start:VBP\n",
            "to:TO\n",
            "emerge:VB\n",
            "from:IN\n",
            "their:PRP$\n",
            "home:NN\n",
            ",:,\n",
            "ready:JJ\n",
            "to:TO\n",
            "face:VB\n",
            "whatever:WDT\n",
            "challenge:VBP\n",
            "await:IN\n",
            "they:PRP\n",
            ".:.\n",
            "the:DT\n",
            "energy:NN\n",
            "of:IN\n",
            "the:DT\n",
            "morning:NN\n",
            "be:VB\n",
            "contagious:JJ\n",
            ",:,\n",
            "fill:VB\n",
            "everyone:NN\n",
            "with:IN\n",
            "a:DT\n",
            "sense:NN\n",
            "of:IN\n",
            "optimism:NN\n",
            ".:.\n",
            "as:IN\n",
            "the:DT\n",
            "sun:NN\n",
            "climb:NN\n",
            "higher:JJR\n",
            ",:,\n",
            "the:DT\n",
            "day:NN\n",
            "become:VB\n",
            "bright:JJ\n",
            ",:,\n",
            "and:CC\n",
            "the:DT\n",
            "earth:NN\n",
            "seem:VBP\n",
            "to:TO\n",
            "come:VB\n",
            "alive:JJ\n",
            ".:.\n",
            "it:PRP\n",
            "be:VB\n",
            "a:DT\n",
            "reminder:NN\n",
            "that:IN\n",
            ",:,\n",
            "no:DT\n",
            "matter:NN\n",
            "the:DT\n",
            "struggle:NN\n",
            ",:,\n",
            "each:DT\n",
            "day:NN\n",
            "bring:VB\n",
            "a:DT\n",
            "fresh:JJ\n",
            "start:NN\n",
            ".:.\n"
          ]
        },
        {
          "output_type": "stream",
          "name": "stderr",
          "text": [
            "[nltk_data] Downloading package averaged_perceptron_tagger_eng to\n",
            "[nltk_data]     /root/nltk_data...\n",
            "[nltk_data]   Package averaged_perceptron_tagger_eng is already up-to-\n",
            "[nltk_data]       date!\n"
          ]
        }
      ]
    },
    {
      "cell_type": "code",
      "source": [
        "!pip install nltk\n",
        "import nltk\n",
        "nltk.download('words')\n",
        "from nltk.chunk import ne_chunk\n",
        "from nltk import pos_tag # Ensure pos_tag is imported\n",
        "from nltk.tokenize import word_tokenize\n",
        "\n",
        "tokens = word_tokenize(text)\n",
        "# Use nltk.pos_tag instead of the overwritten variable\n",
        "pos_tags_result = pos_tag(tokens)  # Rename to avoid conflict\n",
        "ner_tags = ne_chunk(pos_tags_result)\n",
        "print(ner_tags)"
      ],
      "metadata": {
        "colab": {
          "base_uri": "https://localhost:8080/"
        },
        "id": "rSAaKYh3DmDf",
        "outputId": "1307790f-1194-4df9-9a99-4ef39634d2b0"
      },
      "execution_count": null,
      "outputs": [
        {
          "output_type": "stream",
          "name": "stdout",
          "text": [
            "Requirement already satisfied: nltk in /usr/local/lib/python3.11/dist-packages (3.9.1)\n",
            "Requirement already satisfied: click in /usr/local/lib/python3.11/dist-packages (from nltk) (8.1.8)\n",
            "Requirement already satisfied: joblib in /usr/local/lib/python3.11/dist-packages (from nltk) (1.4.2)\n",
            "Requirement already satisfied: regex>=2021.8.3 in /usr/local/lib/python3.11/dist-packages (from nltk) (2024.11.6)\n",
            "Requirement already satisfied: tqdm in /usr/local/lib/python3.11/dist-packages (from nltk) (4.67.1)\n"
          ]
        },
        {
          "output_type": "stream",
          "name": "stderr",
          "text": [
            "[nltk_data] Downloading package words to /root/nltk_data...\n",
            "[nltk_data]   Unzipping corpora/words.zip.\n"
          ]
        },
        {
          "output_type": "stream",
          "name": "stdout",
          "text": [
            "(S\n",
            "  The/DT\n",
            "  early/JJ\n",
            "  morning/NN\n",
            "  mist/NN\n",
            "  clung/NN\n",
            "  to/TO\n",
            "  the/DT\n",
            "  fields/NNS\n",
            "  as/IN\n",
            "  the/DT\n",
            "  first/JJ\n",
            "  rays/NNS\n",
            "  of/IN\n",
            "  sunlight/NN\n",
            "  peeked/VBN\n",
            "  over/IN\n",
            "  the/DT\n",
            "  hills/NNS\n",
            "  ./.\n",
            "  (PERSON Birds/NNS)\n",
            "  began/VBD\n",
            "  to/TO\n",
            "  stir/VB\n",
            "  ,/,\n",
            "  their/PRP$\n",
            "  songs/NNS\n",
            "  echoing/VBG\n",
            "  through/IN\n",
            "  the/DT\n",
            "  quiet/JJ\n",
            "  air/NN\n",
            "  ./.\n",
            "  A/DT\n",
            "  cool/JJ\n",
            "  breeze/NN\n",
            "  carried/VBD\n",
            "  the/DT\n",
            "  scent/NN\n",
            "  of/IN\n",
            "  dew-covered/JJ\n",
            "  grass/NN\n",
            "  ,/,\n",
            "  refreshing/VBG\n",
            "  the/DT\n",
            "  soul/NN\n",
            "  ./.\n",
            "  In/IN\n",
            "  the/DT\n",
            "  distance/NN\n",
            "  ,/,\n",
            "  the/DT\n",
            "  trees/NNS\n",
            "  stood/VBD\n",
            "  tall/JJ\n",
            "  ,/,\n",
            "  their/PRP$\n",
            "  leaves/NNS\n",
            "  gently/RB\n",
            "  swaying/VBG\n",
            "  as/IN\n",
            "  if/IN\n",
            "  whispering/JJ\n",
            "  secrets/NNS\n",
            "  ./.\n",
            "  The/DT\n",
            "  world/NN\n",
            "  felt/VBD\n",
            "  still/RB\n",
            "  ,/,\n",
            "  as/IN\n",
            "  if/IN\n",
            "  nature/NN\n",
            "  was/VBD\n",
            "  holding/VBG\n",
            "  its/PRP$\n",
            "  breath/NN\n",
            "  before/IN\n",
            "  the/DT\n",
            "  bustle/NN\n",
            "  of/IN\n",
            "  the/DT\n",
            "  day/NN\n",
            "  began/VBD\n",
            "  ./.\n",
            "  Slowly/RB\n",
            "  ,/,\n",
            "  the/DT\n",
            "  colors/NNS\n",
            "  of/IN\n",
            "  the/DT\n",
            "  sky/NN\n",
            "  shifted/VBD\n",
            "  from/IN\n",
            "  pale/JJ\n",
            "  blue/NN\n",
            "  to/TO\n",
            "  a/DT\n",
            "  brilliant/JJ\n",
            "  gold/NN\n",
            "  ,/,\n",
            "  signaling/VBG\n",
            "  the/DT\n",
            "  arrival/NN\n",
            "  of/IN\n",
            "  a/DT\n",
            "  new/JJ\n",
            "  day/NN\n",
            "  ./.\n",
            "  People/NNS\n",
            "  started/VBD\n",
            "  to/TO\n",
            "  emerge/VB\n",
            "  from/IN\n",
            "  their/PRP$\n",
            "  homes/NNS\n",
            "  ,/,\n",
            "  ready/JJ\n",
            "  to/TO\n",
            "  face/VB\n",
            "  whatever/WDT\n",
            "  challenges/NNS\n",
            "  awaited/VBD\n",
            "  them/PRP\n",
            "  ./.\n",
            "  The/DT\n",
            "  energy/NN\n",
            "  of/IN\n",
            "  the/DT\n",
            "  morning/NN\n",
            "  was/VBD\n",
            "  contagious/JJ\n",
            "  ,/,\n",
            "  filling/VBG\n",
            "  everyone/NN\n",
            "  with/IN\n",
            "  a/DT\n",
            "  sense/NN\n",
            "  of/IN\n",
            "  optimism/NN\n",
            "  ./.\n",
            "  As/IN\n",
            "  the/DT\n",
            "  sun/NN\n",
            "  climbed/VBD\n",
            "  higher/JJR\n",
            "  ,/,\n",
            "  the/DT\n",
            "  day/NN\n",
            "  became/VBD\n",
            "  brighter/NN\n",
            "  ,/,\n",
            "  and/CC\n",
            "  the/DT\n",
            "  earth/NN\n",
            "  seemed/VBD\n",
            "  to/TO\n",
            "  come/VB\n",
            "  alive/JJ\n",
            "  ./.\n",
            "  It/PRP\n",
            "  was/VBD\n",
            "  a/DT\n",
            "  reminder/NN\n",
            "  that/IN\n",
            "  ,/,\n",
            "  no/DT\n",
            "  matter/NN\n",
            "  the/DT\n",
            "  struggles/NNS\n",
            "  ,/,\n",
            "  each/DT\n",
            "  day/NN\n",
            "  brings/VBZ\n",
            "  a/DT\n",
            "  fresh/JJ\n",
            "  start/NN\n",
            "  ./.)\n"
          ]
        }
      ]
    },
    {
      "cell_type": "code",
      "source": [
        "import spacy\n",
        "nlp=spacy.load(\"en_core_web_sm\")\n",
        "doc=nlp(text)\n",
        "for ent in doc.ents:\n",
        "  print(ent.text,ent.label_)"
      ],
      "metadata": {
        "colab": {
          "base_uri": "https://localhost:8080/"
        },
        "id": "YWWDlJT3A4mn",
        "outputId": "89133e43-ec5e-457c-fcf1-ace012a7e67f"
      },
      "execution_count": null,
      "outputs": [
        {
          "output_type": "stream",
          "name": "stdout",
          "text": [
            "early morning TIME\n",
            "first ORDINAL\n",
            "the day DATE\n",
            "a new day DATE\n",
            "the day DATE\n",
            "each day DATE\n"
          ]
        }
      ]
    }
  ]
}